{
 "cells": [
  {
   "cell_type": "markdown",
   "metadata": {},
   "source": [
    "John Boyd\n",
    "<br/>\n",
    "**Python version:** 3"
   ]
  },
  {
   "cell_type": "markdown",
   "metadata": {},
   "source": [
    "<br />\n",
    "Try to use:\n",
    "- Basic graphing and display of data trends\n",
    "- Regression techniques on exploratory variables for accidents (and maybe severity and weather+time?)\n",
    "- Time series\n",
    "- classification\n",
    "- State with highest accidents, time with highest accident. Then regression for multiple variables time + state + weather?"
   ]
  },
  {
   "cell_type": "code",
   "execution_count": 1,
   "metadata": {},
   "outputs": [],
   "source": [
    "# Relevant imports\n",
    "import pandas as pd\n",
    "import seaborn as sns\n",
    "import matplotlib.pyplot as plt\n"
   ]
  },
  {
   "cell_type": "code",
   "execution_count": 2,
   "metadata": {},
   "outputs": [],
   "source": [
    "# Load data into memory\n",
    "data = pd.read_csv('~/AD450_Scripts/US_Accidents/US_Accidents_Dec20.csv')"
   ]
  },
  {
   "cell_type": "markdown",
   "metadata": {},
   "source": [
    "<br />"
   ]
  },
  {
   "cell_type": "markdown",
   "metadata": {},
   "source": [
    "**1. UNDERSTANDING INITIAL DATASET**"
   ]
  },
  {
   "cell_type": "code",
   "execution_count": 4,
   "metadata": {},
   "outputs": [
    {
     "name": "stdout",
     "output_type": "stream",
     "text": [
      "4232541\n"
     ]
    },
    {
     "data": {
      "text/html": [
       "<div>\n",
       "<style scoped>\n",
       "    .dataframe tbody tr th:only-of-type {\n",
       "        vertical-align: middle;\n",
       "    }\n",
       "\n",
       "    .dataframe tbody tr th {\n",
       "        vertical-align: top;\n",
       "    }\n",
       "\n",
       "    .dataframe thead th {\n",
       "        text-align: right;\n",
       "    }\n",
       "</style>\n",
       "<table border=\"1\" class=\"dataframe\">\n",
       "  <thead>\n",
       "    <tr style=\"text-align: right;\">\n",
       "      <th></th>\n",
       "      <th>ID</th>\n",
       "      <th>Source</th>\n",
       "      <th>TMC</th>\n",
       "      <th>Severity</th>\n",
       "      <th>Start_Time</th>\n",
       "      <th>End_Time</th>\n",
       "      <th>Start_Lat</th>\n",
       "      <th>Start_Lng</th>\n",
       "      <th>End_Lat</th>\n",
       "      <th>End_Lng</th>\n",
       "      <th>...</th>\n",
       "      <th>Roundabout</th>\n",
       "      <th>Station</th>\n",
       "      <th>Stop</th>\n",
       "      <th>Traffic_Calming</th>\n",
       "      <th>Traffic_Signal</th>\n",
       "      <th>Turning_Loop</th>\n",
       "      <th>Sunrise_Sunset</th>\n",
       "      <th>Civil_Twilight</th>\n",
       "      <th>Nautical_Twilight</th>\n",
       "      <th>Astronomical_Twilight</th>\n",
       "    </tr>\n",
       "  </thead>\n",
       "  <tbody>\n",
       "    <tr>\n",
       "      <th>0</th>\n",
       "      <td>A-1</td>\n",
       "      <td>MapQuest</td>\n",
       "      <td>201.0</td>\n",
       "      <td>3</td>\n",
       "      <td>2016-02-08 05:46:00</td>\n",
       "      <td>2016-02-08 11:00:00</td>\n",
       "      <td>39.865147</td>\n",
       "      <td>-84.058723</td>\n",
       "      <td>NaN</td>\n",
       "      <td>NaN</td>\n",
       "      <td>...</td>\n",
       "      <td>False</td>\n",
       "      <td>False</td>\n",
       "      <td>False</td>\n",
       "      <td>False</td>\n",
       "      <td>False</td>\n",
       "      <td>False</td>\n",
       "      <td>Night</td>\n",
       "      <td>Night</td>\n",
       "      <td>Night</td>\n",
       "      <td>Night</td>\n",
       "    </tr>\n",
       "    <tr>\n",
       "      <th>1</th>\n",
       "      <td>A-2</td>\n",
       "      <td>MapQuest</td>\n",
       "      <td>201.0</td>\n",
       "      <td>2</td>\n",
       "      <td>2016-02-08 06:07:59</td>\n",
       "      <td>2016-02-08 06:37:59</td>\n",
       "      <td>39.928059</td>\n",
       "      <td>-82.831184</td>\n",
       "      <td>NaN</td>\n",
       "      <td>NaN</td>\n",
       "      <td>...</td>\n",
       "      <td>False</td>\n",
       "      <td>False</td>\n",
       "      <td>False</td>\n",
       "      <td>False</td>\n",
       "      <td>False</td>\n",
       "      <td>False</td>\n",
       "      <td>Night</td>\n",
       "      <td>Night</td>\n",
       "      <td>Night</td>\n",
       "      <td>Day</td>\n",
       "    </tr>\n",
       "    <tr>\n",
       "      <th>2</th>\n",
       "      <td>A-3</td>\n",
       "      <td>MapQuest</td>\n",
       "      <td>201.0</td>\n",
       "      <td>2</td>\n",
       "      <td>2016-02-08 06:49:27</td>\n",
       "      <td>2016-02-08 07:19:27</td>\n",
       "      <td>39.063148</td>\n",
       "      <td>-84.032608</td>\n",
       "      <td>NaN</td>\n",
       "      <td>NaN</td>\n",
       "      <td>...</td>\n",
       "      <td>False</td>\n",
       "      <td>False</td>\n",
       "      <td>False</td>\n",
       "      <td>False</td>\n",
       "      <td>True</td>\n",
       "      <td>False</td>\n",
       "      <td>Night</td>\n",
       "      <td>Night</td>\n",
       "      <td>Day</td>\n",
       "      <td>Day</td>\n",
       "    </tr>\n",
       "    <tr>\n",
       "      <th>3</th>\n",
       "      <td>A-4</td>\n",
       "      <td>MapQuest</td>\n",
       "      <td>201.0</td>\n",
       "      <td>3</td>\n",
       "      <td>2016-02-08 07:23:34</td>\n",
       "      <td>2016-02-08 07:53:34</td>\n",
       "      <td>39.747753</td>\n",
       "      <td>-84.205582</td>\n",
       "      <td>NaN</td>\n",
       "      <td>NaN</td>\n",
       "      <td>...</td>\n",
       "      <td>False</td>\n",
       "      <td>False</td>\n",
       "      <td>False</td>\n",
       "      <td>False</td>\n",
       "      <td>False</td>\n",
       "      <td>False</td>\n",
       "      <td>Night</td>\n",
       "      <td>Day</td>\n",
       "      <td>Day</td>\n",
       "      <td>Day</td>\n",
       "    </tr>\n",
       "    <tr>\n",
       "      <th>4</th>\n",
       "      <td>A-5</td>\n",
       "      <td>MapQuest</td>\n",
       "      <td>201.0</td>\n",
       "      <td>2</td>\n",
       "      <td>2016-02-08 07:39:07</td>\n",
       "      <td>2016-02-08 08:09:07</td>\n",
       "      <td>39.627781</td>\n",
       "      <td>-84.188354</td>\n",
       "      <td>NaN</td>\n",
       "      <td>NaN</td>\n",
       "      <td>...</td>\n",
       "      <td>False</td>\n",
       "      <td>False</td>\n",
       "      <td>False</td>\n",
       "      <td>False</td>\n",
       "      <td>True</td>\n",
       "      <td>False</td>\n",
       "      <td>Day</td>\n",
       "      <td>Day</td>\n",
       "      <td>Day</td>\n",
       "      <td>Day</td>\n",
       "    </tr>\n",
       "  </tbody>\n",
       "</table>\n",
       "<p>5 rows × 49 columns</p>\n",
       "</div>"
      ],
      "text/plain": [
       "    ID    Source    TMC  Severity           Start_Time             End_Time  \\\n",
       "0  A-1  MapQuest  201.0         3  2016-02-08 05:46:00  2016-02-08 11:00:00   \n",
       "1  A-2  MapQuest  201.0         2  2016-02-08 06:07:59  2016-02-08 06:37:59   \n",
       "2  A-3  MapQuest  201.0         2  2016-02-08 06:49:27  2016-02-08 07:19:27   \n",
       "3  A-4  MapQuest  201.0         3  2016-02-08 07:23:34  2016-02-08 07:53:34   \n",
       "4  A-5  MapQuest  201.0         2  2016-02-08 07:39:07  2016-02-08 08:09:07   \n",
       "\n",
       "   Start_Lat  Start_Lng  End_Lat  End_Lng  ...  Roundabout Station   Stop  \\\n",
       "0  39.865147 -84.058723      NaN      NaN  ...       False   False  False   \n",
       "1  39.928059 -82.831184      NaN      NaN  ...       False   False  False   \n",
       "2  39.063148 -84.032608      NaN      NaN  ...       False   False  False   \n",
       "3  39.747753 -84.205582      NaN      NaN  ...       False   False  False   \n",
       "4  39.627781 -84.188354      NaN      NaN  ...       False   False  False   \n",
       "\n",
       "  Traffic_Calming Traffic_Signal Turning_Loop Sunrise_Sunset Civil_Twilight  \\\n",
       "0           False          False        False          Night          Night   \n",
       "1           False          False        False          Night          Night   \n",
       "2           False           True        False          Night          Night   \n",
       "3           False          False        False          Night            Day   \n",
       "4           False           True        False            Day            Day   \n",
       "\n",
       "  Nautical_Twilight Astronomical_Twilight  \n",
       "0             Night                 Night  \n",
       "1             Night                   Day  \n",
       "2               Day                   Day  \n",
       "3               Day                   Day  \n",
       "4               Day                   Day  \n",
       "\n",
       "[5 rows x 49 columns]"
      ]
     },
     "execution_count": 4,
     "metadata": {},
     "output_type": "execute_result"
    }
   ],
   "source": [
    "# Get a sense of the data\n",
    "print(len(data))\n",
    "data.head()"
   ]
  },
  {
   "cell_type": "markdown",
   "metadata": {},
   "source": [
    "*Table showing basics of the data. Roughly ~4 million rows. **Note that this does not show all columns.***"
   ]
  },
  {
   "cell_type": "code",
   "execution_count": 5,
   "metadata": {},
   "outputs": [
    {
     "name": "stdout",
     "output_type": "stream",
     "text": [
      "All column names:  ['ID', 'Source', 'TMC', 'Severity', 'Start_Time', 'End_Time', 'Start_Lat', 'Start_Lng', 'End_Lat', 'End_Lng', 'Distance(mi)', 'Description', 'Number', 'Street', 'Side', 'City', 'County', 'State', 'Zipcode', 'Country', 'Timezone', 'Airport_Code', 'Weather_Timestamp', 'Temperature(F)', 'Wind_Chill(F)', 'Humidity(%)', 'Pressure(in)', 'Visibility(mi)', 'Wind_Direction', 'Wind_Speed(mph)', 'Precipitation(in)', 'Weather_Condition', 'Amenity', 'Bump', 'Crossing', 'Give_Way', 'Junction', 'No_Exit', 'Railway', 'Roundabout', 'Station', 'Stop', 'Traffic_Calming', 'Traffic_Signal', 'Turning_Loop', 'Sunrise_Sunset', 'Civil_Twilight', 'Nautical_Twilight', 'Astronomical_Twilight']\n"
     ]
    }
   ],
   "source": [
    "# List all columns since some were obscured\n",
    "list_of_column_names = list(data.columns)\n",
    "print('All column names: ', list_of_column_names)"
   ]
  },
  {
   "cell_type": "markdown",
   "metadata": {},
   "source": [
    "*Get a list of all the 49 columns in the dataset.*"
   ]
  },
  {
   "cell_type": "code",
   "execution_count": 6,
   "metadata": {},
   "outputs": [
    {
     "data": {
      "text/plain": [
       "ID                             0\n",
       "Source                         0\n",
       "TMC                      1516064\n",
       "Severity                       0\n",
       "Start_Time                     0\n",
       "End_Time                       0\n",
       "Start_Lat                      0\n",
       "Start_Lng                      0\n",
       "End_Lat                  2716477\n",
       "End_Lng                  2716477\n",
       "Distance(mi)                   0\n",
       "Description                    2\n",
       "Number                   2687949\n",
       "Street                         0\n",
       "Side                           0\n",
       "City                         137\n",
       "County                         0\n",
       "State                          0\n",
       "Zipcode                     1292\n",
       "Country                        0\n",
       "Timezone                    4615\n",
       "Airport_Code                8973\n",
       "Weather_Timestamp          62644\n",
       "Temperature(F)             89900\n",
       "Wind_Chill(F)            1896001\n",
       "Humidity(%)                95467\n",
       "Pressure(in)               76384\n",
       "Visibility(mi)             98668\n",
       "Wind_Direction             83611\n",
       "Wind_Speed(mph)           479326\n",
       "Precipitation(in)        2065589\n",
       "Weather_Condition          98383\n",
       "Amenity                        0\n",
       "Bump                           0\n",
       "Crossing                       0\n",
       "Give_Way                       0\n",
       "Junction                       0\n",
       "No_Exit                        0\n",
       "Railway                        0\n",
       "Roundabout                     0\n",
       "Station                        0\n",
       "Stop                           0\n",
       "Traffic_Calming                0\n",
       "Traffic_Signal                 0\n",
       "Turning_Loop                   0\n",
       "Sunrise_Sunset               141\n",
       "Civil_Twilight               141\n",
       "Nautical_Twilight            141\n",
       "Astronomical_Twilight        141\n",
       "dtype: int64"
      ]
     },
     "execution_count": 6,
     "metadata": {},
     "output_type": "execute_result"
    }
   ],
   "source": [
    "# First check is any entries are null\n",
    "data.isnull().sum()"
   ]
  },
  {
   "cell_type": "markdown",
   "metadata": {},
   "source": [
    "*Checking columns that contain no entries. Particularly Time and Location columns.*"
   ]
  },
  {
   "cell_type": "markdown",
   "metadata": {},
   "source": [
    "<br />"
   ]
  },
  {
   "cell_type": "markdown",
   "metadata": {},
   "source": [
    "**2. INITAL DATA ANALYSIS & GRAPHING**"
   ]
  },
  {
   "cell_type": "markdown",
   "metadata": {},
   "source": [
    "**a. Accidents Vs. State**"
   ]
  },
  {
   "cell_type": "code",
   "execution_count": 161,
   "metadata": {},
   "outputs": [],
   "source": [
    "# Group data by state, and set index to State\n",
    "accidents_per_state = data.groupby('State')[['ID']].count()"
   ]
  },
  {
   "cell_type": "code",
   "execution_count": 162,
   "metadata": {},
   "outputs": [
    {
     "data": {
      "text/html": [
       "<div>\n",
       "<style scoped>\n",
       "    .dataframe tbody tr th:only-of-type {\n",
       "        vertical-align: middle;\n",
       "    }\n",
       "\n",
       "    .dataframe tbody tr th {\n",
       "        vertical-align: top;\n",
       "    }\n",
       "\n",
       "    .dataframe thead th {\n",
       "        text-align: right;\n",
       "    }\n",
       "</style>\n",
       "<table border=\"1\" class=\"dataframe\">\n",
       "  <thead>\n",
       "    <tr style=\"text-align: right;\">\n",
       "      <th></th>\n",
       "      <th>ID</th>\n",
       "    </tr>\n",
       "    <tr>\n",
       "      <th>State</th>\n",
       "      <th></th>\n",
       "    </tr>\n",
       "  </thead>\n",
       "  <tbody>\n",
       "    <tr>\n",
       "      <th>AL</th>\n",
       "      <td>57017</td>\n",
       "    </tr>\n",
       "    <tr>\n",
       "      <th>AR</th>\n",
       "      <td>5105</td>\n",
       "    </tr>\n",
       "    <tr>\n",
       "      <th>AZ</th>\n",
       "      <td>93103</td>\n",
       "    </tr>\n",
       "    <tr>\n",
       "      <th>CA</th>\n",
       "      <td>972585</td>\n",
       "    </tr>\n",
       "    <tr>\n",
       "      <th>CO</th>\n",
       "      <td>54035</td>\n",
       "    </tr>\n",
       "  </tbody>\n",
       "</table>\n",
       "</div>"
      ],
      "text/plain": [
       "           ID\n",
       "State        \n",
       "AL      57017\n",
       "AR       5105\n",
       "AZ      93103\n",
       "CA     972585\n",
       "CO      54035"
      ]
     },
     "execution_count": 162,
     "metadata": {},
     "output_type": "execute_result"
    }
   ],
   "source": [
    "# Sort data into descending list by state\n",
    "accidents_per_state.head()"
   ]
  },
  {
   "cell_type": "markdown",
   "metadata": {},
   "source": [
    "*List of most accidents per first five states.*"
   ]
  },
  {
   "cell_type": "code",
   "execution_count": 144,
   "metadata": {},
   "outputs": [
    {
     "data": {
      "text/plain": [
       "<matplotlib.axes._subplots.AxesSubplot at 0x1a2a04ac50>"
      ]
     },
     "execution_count": 144,
     "metadata": {},
     "output_type": "execute_result"
    },
    {
     "data": {
      "image/png": "[encoded data removed]",
      "text/plain": [
       "<Figure size 1080x288 with 1 Axes>"
      ]
     },
     "metadata": {},
     "output_type": "display_data"
    }
   ],
   "source": [
    "accidents_per_state = accidents_per_state.sort_values(by = \"ID\", ascending = False)\n",
    "accidents_per_state.plot.bar(title = 'Accidents Per State', figsize = (15,4))"
   ]
  },
  {
   "cell_type": "markdown",
   "metadata": {},
   "source": [
    "*Accidents per State.*"
   ]
  },
  {
   "cell_type": "code",
   "execution_count": 148,
   "metadata": {},
   "outputs": [],
   "source": [
    "# Reset index and sort\n",
    "accidents_per_state = data.groupby('State')[['ID']].count().reset_index()\n",
    "accidents_per_state = accidents_per_state.sort_values(by = \"ID\", ascending = False)"
   ]
  },
  {
   "cell_type": "code",
   "execution_count": 149,
   "metadata": {},
   "outputs": [
    {
     "data": {
      "text/plain": [
       "[Text(0.5, 0, 'Accidents'), Text(0.5, 1.0, 'Accidents Vs. State')]"
      ]
     },
     "execution_count": 149,
     "metadata": {},
     "output_type": "execute_result"
    },
    {
     "data": {
      "image/png": "[encoded data removed]",
      "text/plain": [
       "<Figure size 432x1008 with 1 Axes>"
      ]
     },
     "metadata": {},
     "output_type": "display_data"
    }
   ],
   "source": [
    "# https://matplotlib.org/3.1.1/gallery/lines_bars_and_markers/barchart.html#sphx-glr-gallery-lines-bars-and-markers-barchart-py\n",
    "# https://stackoverflow.com/questions/14770735/how-do-i-change-the-figure-size-with-subplots\n",
    "\n",
    "sns.set(style = \"whitegrid\") # Create plot with vertical grid lines\n",
    "\n",
    "fig, axesSubplot = plt.subplots(figsize = (6, 14)) # Create subplot figure size dimensions\n",
    "\n",
    "axesBarPlot = sns.barplot( x = \"ID\", y = \"State\", data = accidents_per_state) # Plot state vs. accident data\n",
    "axesBarPlot.set(xlabel = 'Accidents', title = \"Accidents Vs. State\") # Set custom x-axis label"
   ]
  },
  {
   "cell_type": "markdown",
   "metadata": {},
   "source": [
    "*We can clearly see that California has a extremely large accident count. Could this figure be due to their large population, rate of reporting, or perhaps other reasons besides these?*"
   ]
  },
  {
   "cell_type": "markdown",
   "metadata": {},
   "source": [
    "<br/>"
   ]
  },
  {
   "cell_type": "markdown",
   "metadata": {},
   "source": [
    "**b. Accidents Per State Population**"
   ]
  },
  {
   "cell_type": "code",
   "execution_count": 154,
   "metadata": {},
   "outputs": [],
   "source": [
    "accidents_per_pop = data.groupby('State')[['ID']].count()"
   ]
  },
  {
   "cell_type": "code",
   "execution_count": 155,
   "metadata": {},
   "outputs": [
    {
     "data": {
      "text/html": [
       "<div>\n",
       "<style scoped>\n",
       "    .dataframe tbody tr th:only-of-type {\n",
       "        vertical-align: middle;\n",
       "    }\n",
       "\n",
       "    .dataframe tbody tr th {\n",
       "        vertical-align: top;\n",
       "    }\n",
       "\n",
       "    .dataframe thead th {\n",
       "        text-align: right;\n",
       "    }\n",
       "</style>\n",
       "<table border=\"1\" class=\"dataframe\">\n",
       "  <thead>\n",
       "    <tr style=\"text-align: right;\">\n",
       "      <th></th>\n",
       "      <th>ID</th>\n",
       "      <th>Pop</th>\n",
       "      <th>Acc Per Pop</th>\n",
       "    </tr>\n",
       "    <tr>\n",
       "      <th>State</th>\n",
       "      <th></th>\n",
       "      <th></th>\n",
       "      <th></th>\n",
       "    </tr>\n",
       "  </thead>\n",
       "  <tbody>\n",
       "    <tr>\n",
       "      <th>AL</th>\n",
       "      <td>57017</td>\n",
       "      <td>4921532</td>\n",
       "      <td>115.852137</td>\n",
       "    </tr>\n",
       "    <tr>\n",
       "      <th>AR</th>\n",
       "      <td>5105</td>\n",
       "      <td>3030522</td>\n",
       "      <td>16.845283</td>\n",
       "    </tr>\n",
       "    <tr>\n",
       "      <th>AZ</th>\n",
       "      <td>93103</td>\n",
       "      <td>7421401</td>\n",
       "      <td>125.452054</td>\n",
       "    </tr>\n",
       "    <tr>\n",
       "      <th>CA</th>\n",
       "      <td>972585</td>\n",
       "      <td>39368078</td>\n",
       "      <td>247.049145</td>\n",
       "    </tr>\n",
       "    <tr>\n",
       "      <th>CO</th>\n",
       "      <td>54035</td>\n",
       "      <td>5807719</td>\n",
       "      <td>93.039970</td>\n",
       "    </tr>\n",
       "  </tbody>\n",
       "</table>\n",
       "</div>"
      ],
      "text/plain": [
       "           ID       Pop  Acc Per Pop\n",
       "State                               \n",
       "AL      57017   4921532   115.852137\n",
       "AR       5105   3030522    16.845283\n",
       "AZ      93103   7421401   125.452054\n",
       "CA     972585  39368078   247.049145\n",
       "CO      54035   5807719    93.039970"
      ]
     },
     "execution_count": 155,
     "metadata": {},
     "output_type": "execute_result"
    }
   ],
   "source": [
    "# Note: No Alaska or Hawaii. But there is DC\n",
    "test = pd.DataFrame({'AL': [4921532], 'AR': [3030522], 'AZ': [7421401], 'CA': [39368078], 'CO': [5807719], 'CT': [3557006], 'DC': [712816], 'DE': [986809], 'FL': [21733312], 'GA': [10710017], 'IA': [3163561], 'ID': [1826913], 'IL': [12587530], 'IN': [6754953], 'KS': [2913805], 'KY': [4477251], 'LA': [4645318], 'MA': [6893574], 'MD': [6055802], 'ME': [1350141], 'MI': [9966555], 'MN': [5657342], 'MO': [6151548], 'MS': [2966786], 'MT': [1080577], 'NC': [10600823], 'ND': [765309], 'NE': [1937552], 'NH': [1366275], 'NJ': [8882371], 'NM': [2106319], 'NV': [3138259], 'NY': [19336776], 'OH': [11693217], 'OK': [3980783], 'OR': [4241507], 'PA': [12783254], 'RI': [1057125], 'SC': [5218040], 'SD': [892717], 'TN': [6886834], 'TX': [29360759], 'UT': [3249879], 'VA': [8590563], 'VT': [623347], 'WA': [7693612], 'WI': [5832655], 'WV': [1784787], 'WY': [582328]})\n",
    "# As list\n",
    "# test = [4921532, 3030522,7421401,39368078,5807719,3557006,712816,986809,21733312,10710017,3163561,1826913,12587530,6754953,2913805,4477251,4645318,6893574,6055802,1350141,9966555,5657342,6151548,2966786,1080577,10600823,765309,1937552,1366275,8882371,2106319,3138259,19336776,11693217,3980783,4241507,12783254,1057125,5218040,892717,6886834,29360759,3249879,8590563,623347,7693612,5832655,1784787,582328]\n",
    "\n",
    "# Transpose data\n",
    "tester = test.T\n",
    "\n",
    "# Append population data\n",
    "accidents_per_pop['Pop'] = tester\n",
    "\n",
    "accidents_per_pop['Acc Per Pop'] = accidents_per_pop['ID'] / accidents_per_pop['Pop'] * 10000\n",
    "accidents_per_pop.head()"
   ]
  },
  {
   "cell_type": "code",
   "execution_count": 157,
   "metadata": {},
   "outputs": [
    {
     "data": {
      "text/plain": [
       "<matplotlib.axes._subplots.AxesSubplot at 0x1a2b768b10>"
      ]
     },
     "execution_count": 157,
     "metadata": {},
     "output_type": "execute_result"
    },
    {
     "data": {
      "image/png": "[encoded data removed]",
      "text/plain": [
       "<Figure size 1080x288 with 1 Axes>"
      ]
     },
     "metadata": {},
     "output_type": "display_data"
    }
   ],
   "source": [
    "# dataGroup.sort_values(by = \"Acc Per Pop\", ascending = False)\n",
    "accidents_per_pop = accidents_per_pop.sort_values(by = \"Acc Per Pop\", ascending = False)\n",
    "accidents_per_pop[['Acc Per Pop']].plot.bar(title = 'Accidents Per State', figsize = (15,4))\n"
   ]
  },
  {
   "cell_type": "markdown",
   "metadata": {},
   "source": [
    "*Accidents Per 10000 people*"
   ]
  },
  {
   "cell_type": "code",
   "execution_count": null,
   "metadata": {},
   "outputs": [],
   "source": [
    "# Trying to make a nice plot with sns, but not working currently\n",
    "\n",
    "# dataGroup = dataGroup.sort_values(by = \"Acc Per Pop\", ascending = False)\n",
    "# sns.set(style = \"whitegrid\") # Create plot with vertical grid lines\n",
    "\n",
    "# fig, axesSubplot = plt.subplots(figsize = (14, 6)) # Create subplot figure size dimensions\n",
    "\n",
    "# axesBarPlot = sns.barplot(  data = dataGroup) # Plot state vs. accident data\n",
    "# # axesBarPlot.set(xlabel = 'Accidents', title = \"Accidents Vs. State\") # Set custom x-axis label"
   ]
  },
  {
   "cell_type": "markdown",
   "metadata": {},
   "source": [
    "<br/>"
   ]
  },
  {
   "cell_type": "markdown",
   "metadata": {},
   "source": [
    "**c. Accidents vs. Time Of Day**"
   ]
  },
  {
   "cell_type": "code",
   "execution_count": 164,
   "metadata": {},
   "outputs": [],
   "source": [
    "# Group by time and ID\n",
    "accidents_per_time = data.groupby('Start_Time')[['ID']].count()\n"
   ]
  },
  {
   "cell_type": "code",
   "execution_count": null,
   "metadata": {},
   "outputs": [],
   "source": [
    "# Next: DO NOT RUN THIS LINE, find a simple way to group accidents by day/month first then group by hour intervals\n",
    "# accidents_per_time[['ID']].plot.bar(title = 'Accidents Per Time', figsize = (15,4))"
   ]
  },
  {
   "cell_type": "code",
   "execution_count": 159,
   "metadata": {},
   "outputs": [],
   "source": [
    "# Notes cell\n",
    "# # Group data by state\n",
    "# dataGroup = data.groupby('State')[['ID']].count()\n",
    "# accidents_per_state = dataGroup.reset_index()\n",
    "\n",
    "# # dataGroup\n",
    "\n",
    "# # Note: No Alaska or Hawaii. But there is DC\n",
    "# test = pd.DataFrame({'AL': [4921532], 'AR': [3030522], 'AZ': [7421401], 'CA': [39368078], 'CO': [5807719], 'CT': [3557006], 'DC': [712816], 'DE': [986809], 'FL': [21733312], 'GA': [10710017], 'IA': [3163561], 'ID': [1826913], 'IL': [12587530], 'IN': [6754953], 'KS': [2913805], 'KY': [4477251], 'LA': [4645318], 'MA': [6893574], 'MD': [6055802], 'ME': [1350141], 'MI': [9966555], 'MN': [5657342], 'MO': [6151548], 'MS': [2966786], 'MT': [1080577], 'NC': [10600823], 'ND': [765309], 'NE': [1937552], 'NH': [1366275], 'NJ': [8882371], 'NM': [2106319], 'NV': [3138259], 'NY': [19336776], 'OH': [11693217], 'OK': [3980783], 'OR': [4241507], 'PA': [12783254], 'RI': [1057125], 'SC': [5218040], 'SD': [892717], 'TN': [6886834], 'TX': [29360759], 'UT': [3249879], 'VA': [8590563], 'VT': [623347], 'WA': [7693612], 'WI': [5832655], 'WV': [1784787], 'WY': [582328]})\n",
    "\n",
    "# # List Form\n",
    "# # test = [4921532, 3030522,7421401,39368078,5807719,3557006,712816,986809,21733312,10710017,3163561,1826913,12587530,6754953,2913805,4477251,4645318,6893574,6055802,1350141,9966555,5657342,6151548,2966786,1080577,10600823,765309,1937552,1366275,8882371,2106319,3138259,19336776,11693217,3980783,4241507,12783254,1057125,5218040,892717,6886834,29360759,3249879,8590563,623347,7693612,5832655,1784787,582328]\n",
    "\n",
    "# # Transpose data\n",
    "# tester = test.T\n",
    "\n",
    "# # Append population data\n",
    "# dataGroup['Pop'] = tester\n",
    "# dataGroup\n",
    "\n",
    "# dataGroup.iat[1,0] # prints 1st accident value for AL\n",
    "# print(dataGroup.iat[0,0])\n",
    "# print(tester.iat[0,0])\n",
    "# dataGroup.iat[0,0] / tester.iat[0,0]\n",
    "\n",
    "# count = 0;\n",
    "# for x in test:\n",
    "    \n",
    "    \n",
    "#     print(x, dataGroup.iat[count, 0] / test[x]) # outputs accidents per population\n",
    "#     count = count + 1\n",
    "\n"
   ]
  },
  {
   "cell_type": "code",
   "execution_count": null,
   "metadata": {},
   "outputs": [],
   "source": [
    "# test = pd.DataFrame({'AL': [4921532], 'AR': [3030522], 'AZ': [7421401], 'CA': [39368078], 'CO': [5807719], 'CT': [3557006], 'DC': [712816], 'DE': [986809], 'FL': [21733312], 'GA': [10710017], 'IA': [3163561], 'ID': [1826913], 'IL': [12587530], 'IN': [6754953], 'KS': [2913805], 'KY': [4477251], 'LA': [4645318], 'MA': [6893574], 'MD': [6055802], 'ME': [1350141], 'MI': [9966555], 'MN': [5657342], 'MO': [6151548], 'MS': [2966786], 'MT': [1080577], 'NC': [10600823], 'ND': [765309], 'NE': [1937552], 'NH': [1366275], 'NJ': [8882371], 'NM': [2106319], 'NV': [3138259], 'NY': [19336776], 'OH': [11693217], 'OK': [3980783], 'OR': [4241507], 'PA': [12783254], 'RI': [1057125], 'SC': [5218040], 'SD': [892717], 'TN': [6886834], 'TX': [29360759], 'UT': [3249879], 'VA': [8590563], 'VT': [623347], 'WA': [7693612], 'WI': [5832655], 'WV': [1784787], 'WY': [582328]})\n"
   ]
  }
 ],
 "metadata": {
  "kernelspec": {
   "display_name": "Python 3",
   "language": "python",
   "name": "python3"
  },
  "language_info": {
   "codemirror_mode": {
    "name": "ipython",
    "version": 3
   },
   "file_extension": ".py",
   "mimetype": "text/x-python",
   "name": "python",
   "nbconvert_exporter": "python",
   "pygments_lexer": "ipython3",
   "version": "3.7.6"
  }
 },
 "nbformat": 4,
 "nbformat_minor": 4
}
